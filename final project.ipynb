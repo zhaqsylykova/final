{
 "cells": [
  {
   "cell_type": "markdown",
   "id": "a9c2f23f",
   "metadata": {},
   "source": [
    "# Web scraping"
   ]
  },
  {
   "cell_type": "code",
   "execution_count": null,
   "id": "4dcdd45d",
   "metadata": {},
   "outputs": [],
   "source": [
    "import requests                    # is the standard tool for composing HTTP requests in Python\n",
    "from bs4 import BeautifulSoup      # this is a Python library for extracting data from HTML files                     \n",
    "import re                          # to extract a digit from a string\n",
    "\n",
    "URL = 'https://krisha.kz/prodazha/doma/'       # the address of the page that will extract the data\n",
    "\n",
    "\n",
    "def extract_max_page():                            # get all pages in the paginator\n",
    "    r = requests.get(URL)                          # get a web page using a get request, you can get all the information you need\n",
    "    soup = BeautifulSoup(r.text, 'html.parser')    # put the response text in the soup variable         \n",
    "    pages = []                                   \n",
    "    paginator = soup.find_all('a', class_='paginator__btn') # let's see the paginator code\n",
    "    for page in paginator:                                \n",
    "        pages.append(int(page.get('data-page')))            # extract all numbers from the paginator\n",
    "    return pages[-2]                                        # get the last page in the paginator\n",
    "\n",
    "\n",
    "def extract_info(html):                                  # extract all information from the card\n",
    "    urls = []                                 \n",
    "    url = 'https://krisha.kz' + html.find('div', {'class': 'a-card__header-left'}).find('a')['href']  # link for each product\n",
    "    urls.append(url)                                    \n",
    "    for url in urls:                                     # get information from the product through the link\n",
    "        r = requests.get(url)\n",
    "        soup = BeautifulSoup(r.text, 'html.parser')\n",
    "        name = soup.find('div', class_='offer__advert-title').get_text(strip=True).partition(',')[0]\n",
    "        city = soup.find('div', class_='offer__location offer__advert-short-info').find('span').text.partition(',')[0]\n",
    "        address = soup.find('div', class_='offer__advert-title').get_text(strip=True).split(',')[-1]\n",
    "        area = soup.find('div', class_='offer__advert-title').get_text(strip=True).split(',')[1]\n",
    "        price = soup.find('div', class_='offer__price').get_text(strip=True).replace(u'\\xa0', ' ')\n",
    "        try:             # we will try to find and extract information\n",
    "            try: \n",
    "                sot = soup.find('div', {'data-name': 'land.square'}).find_next('div', class_='offer__advert-short-info').text\n",
    "            except:\n",
    "                sot = soup.find('dt', {'data-name': 'land.square'}).find_next('dd').text\n",
    "        except:           # if we didn’t find information, we will write 'None'\n",
    "            sot = 'None'\n",
    "        try:\n",
    "            condition = soup.find('div', {'data-name': 'house.renovation'}).find_next('div', class_='offer__advert-short-info').text\n",
    "        except:\n",
    "            condition = 'None'\n",
    "        try:\n",
    "            toilet = soup.find('div', {'data-name': 'house.toilet'}).find_next('div', class_='offer__advert-short-info').text\n",
    "        except:\n",
    "            toilet = 'None'\n",
    "        try:\n",
    "            building1 = soup.find('div', {'data-name': 'house.building'}).find_next('div', class_='offer__advert-short-info').text\n",
    "            building = int(re.search(r'\\d+', building1).group(0))\n",
    "        except:\n",
    "            building = 'None'\n",
    "        try:\n",
    "            heating = soup.find('dt', {'data-name': 'cmtn.heating'}).find_next('dd').text\n",
    "        except:\n",
    "            heating = 'None'\n",
    "        try:\n",
    "            floor = soup.find('div', {'data-name': 'house.floor_num'}).find_next('div', class_='offer__advert-short-info').text\n",
    "        except:\n",
    "            floor = 'None'\n",
    "        try:\n",
    "            ceiling = soup.find('div', {'data-name': 'ceiling'}).find_next('div', class_='offer__advert-short-info').text\n",
    "        except:\n",
    "            ceiling = 'None'\n",
    "        try:\n",
    "            sewage = soup.find('dt', {'data-name': 'cmtn.sewage'}).find_next('dd').text\n",
    "        except:\n",
    "            sewage = 'None'\n",
    "\n",
    "    return {'Заголовок': name, 'Город': city, 'Цена': price, 'Участок': sot, 'Адресс': address, 'Год': building, 'Площадь': area, 'Состояние': condition,\n",
    "            'Санузел': toilet, 'Отопление': heating, 'Количество этаж': floor, 'Высота потолков': ceiling, 'Канализация': sewage}\n",
    "\n",
    "\n",
    "def extract_houses(pages_to_extract):\n",
    "    houses = []\n",
    "    for page in range(1, pages_to_extract + 1):  # Iterate up to the specified number of pages\n",
    "        print(f'Parsing page {page}')\n",
    "        result = requests.get(f'{URL}?page={page}')\n",
    "        soup = BeautifulSoup(result.text, 'html.parser')\n",
    "        products = soup.find_all('div', class_='a-card__inc')\n",
    "        for product in products:\n",
    "            fact = extract_info(product)\n",
    "            houses.append(fact)\n",
    "    return houses\n",
    "\n",
    "# Specify the number of pages to extract (in this case, 10)\n",
    "pages_to_extract = 10\n",
    "houses1 = extract_houses(pages_to_extract)\n",
    "\n",
    "def save(houses1):\n",
    "    file = open('houseslist.csv', mode='w', encoding='utf-8-sig', newline='')\n",
    "    writer = csv.writer(file, delimiter=';')\n",
    "    writer.writerow(['Заголовок', 'Город', 'Цена', 'Участок', 'Адресс', 'Год', 'Площадь', 'Состояние', 'Санузел', 'Отопление', 'Количество этаж', 'Высота потолков', 'Канализация'])\n",
    "    for house in houses1:\n",
    "        writer.writerow(list(house.values()))\n",
    "    return\n",
    "\n",
    "save(houses1)                                 # release the function to work"
   ]
  },
  {
   "cell_type": "markdown",
   "id": "8d88b7fb",
   "metadata": {},
   "source": [
    "### Conclusion: With the help of web scraping, we get all the data about the house that is given in the classifieds website. Looking at the page code, we see the path that contains the data and parse it. When all pages are parsed, we will save all data to a csv file."
   ]
  },
  {
   "cell_type": "markdown",
   "id": "44109beb",
   "metadata": {},
   "source": [
    "# Data preprocessing "
   ]
  },
  {
   "cell_type": "code",
   "execution_count": 1,
   "id": "f8f4479b",
   "metadata": {},
   "outputs": [],
   "source": [
    "import numpy as np            # the main library for Python when it comes to mathematics\n",
    "import pandas as pd           # software library in Python for data processing and analysis.\n",
    "import csv                    # import csv file from our computer"
   ]
  },
  {
   "cell_type": "code",
   "execution_count": null,
   "id": "aedb7aa3",
   "metadata": {},
   "outputs": [],
   "source": [
    "df = pd.read_csv('houses1.csv',delimiter=';')                # read the csv file"
   ]
  },
  {
   "cell_type": "code",
   "execution_count": null,
   "id": "03a5152e",
   "metadata": {},
   "outputs": [],
   "source": [
    "df            "
   ]
  },
  {
   "cell_type": "code",
   "execution_count": 6,
   "id": "f4694b05",
   "metadata": {},
   "outputs": [
    {
     "data": {
      "text/html": [
       "<div>\n",
       "<style scoped>\n",
       "    .dataframe tbody tr th:only-of-type {\n",
       "        vertical-align: middle;\n",
       "    }\n",
       "\n",
       "    .dataframe tbody tr th {\n",
       "        vertical-align: top;\n",
       "    }\n",
       "\n",
       "    .dataframe thead th {\n",
       "        text-align: right;\n",
       "    }\n",
       "</style>\n",
       "<table border=\"1\" class=\"dataframe\">\n",
       "  <thead>\n",
       "    <tr style=\"text-align: right;\">\n",
       "      <th></th>\n",
       "      <th>Заголовок</th>\n",
       "      <th>Город</th>\n",
       "      <th>Цена</th>\n",
       "      <th>Участок</th>\n",
       "      <th>Адресс</th>\n",
       "      <th>Год</th>\n",
       "      <th>Площадь</th>\n",
       "      <th>Состояние</th>\n",
       "      <th>Санузел</th>\n",
       "      <th>Отопление</th>\n",
       "      <th>Количество этаж</th>\n",
       "      <th>Высота потолков</th>\n",
       "      <th>Канализация</th>\n",
       "    </tr>\n",
       "  </thead>\n",
       "  <tbody>\n",
       "    <tr>\n",
       "      <th>count</th>\n",
       "      <td>20006</td>\n",
       "      <td>20006</td>\n",
       "      <td>20006</td>\n",
       "      <td>20006</td>\n",
       "      <td>20006</td>\n",
       "      <td>20006</td>\n",
       "      <td>20006</td>\n",
       "      <td>20006</td>\n",
       "      <td>20006</td>\n",
       "      <td>20006</td>\n",
       "      <td>20006</td>\n",
       "      <td>20006</td>\n",
       "      <td>20006</td>\n",
       "    </tr>\n",
       "    <tr>\n",
       "      <th>unique</th>\n",
       "      <td>29</td>\n",
       "      <td>651</td>\n",
       "      <td>1209</td>\n",
       "      <td>749</td>\n",
       "      <td>16247</td>\n",
       "      <td>91</td>\n",
       "      <td>1807</td>\n",
       "      <td>8</td>\n",
       "      <td>5</td>\n",
       "      <td>7</td>\n",
       "      <td>16</td>\n",
       "      <td>131</td>\n",
       "      <td>5</td>\n",
       "    </tr>\n",
       "    <tr>\n",
       "      <th>top</th>\n",
       "      <td>4-комнатный дом</td>\n",
       "      <td>Алматы</td>\n",
       "      <td>25 000 000〒</td>\n",
       "      <td>10 сот.</td>\n",
       "      <td>Старый город</td>\n",
       "      <td>None</td>\n",
       "      <td>100 м²</td>\n",
       "      <td>хорошее</td>\n",
       "      <td>совмещенный</td>\n",
       "      <td>на газе</td>\n",
       "      <td>1</td>\n",
       "      <td>None</td>\n",
       "      <td>септик</td>\n",
       "    </tr>\n",
       "    <tr>\n",
       "      <th>freq</th>\n",
       "      <td>4953</td>\n",
       "      <td>3843</td>\n",
       "      <td>744</td>\n",
       "      <td>3740</td>\n",
       "      <td>33</td>\n",
       "      <td>3335</td>\n",
       "      <td>1113</td>\n",
       "      <td>8393</td>\n",
       "      <td>5828</td>\n",
       "      <td>11012</td>\n",
       "      <td>10767</td>\n",
       "      <td>5816</td>\n",
       "      <td>10123</td>\n",
       "    </tr>\n",
       "  </tbody>\n",
       "</table>\n",
       "</div>"
      ],
      "text/plain": [
       "              Заголовок   Город         Цена  Участок         Адресс    Год  \\\n",
       "count             20006   20006        20006    20006          20006  20006   \n",
       "unique               29     651         1209      749          16247     91   \n",
       "top     4-комнатный дом  Алматы  25 000 000〒  10 сот.   Старый город   None   \n",
       "freq               4953    3843          744     3740             33   3335   \n",
       "\n",
       "        Площадь Состояние      Санузел Отопление Количество этаж  \\\n",
       "count     20006     20006        20006     20006           20006   \n",
       "unique     1807         8            5         7              16   \n",
       "top      100 м²   хорошее  совмещенный   на газе               1   \n",
       "freq       1113      8393         5828     11012           10767   \n",
       "\n",
       "       Высота потолков Канализация  \n",
       "count            20006       20006  \n",
       "unique             131           5  \n",
       "top               None      септик  \n",
       "freq              5816       10123  "
      ]
     },
     "execution_count": 6,
     "metadata": {},
     "output_type": "execute_result"
    }
   ],
   "source": [
    "df.describe()            # df.describe () is a very useful method to get an idea of your df."
   ]
  },
  {
   "cell_type": "code",
   "execution_count": 7,
   "id": "675932d9",
   "metadata": {},
   "outputs": [],
   "source": [
    "data = df.replace('None', np.nan)         # change 'None' to 'numpy NaN' to see missing values  "
   ]
  },
  {
   "cell_type": "code",
   "execution_count": 8,
   "id": "622b7e02",
   "metadata": {},
   "outputs": [
    {
     "data": {
      "text/plain": [
       "1958"
      ]
     },
     "execution_count": 8,
     "metadata": {},
     "output_type": "execute_result"
    }
   ],
   "source": [
    "data.duplicated().sum()                   # looking for identical ads"
   ]
  },
  {
   "cell_type": "code",
   "execution_count": 9,
   "id": "61a07931",
   "metadata": {},
   "outputs": [],
   "source": [
    "data.drop_duplicates(inplace=True)        # remove duplicates"
   ]
  },
  {
   "cell_type": "code",
   "execution_count": 10,
   "id": "1ff2a070",
   "metadata": {},
   "outputs": [
    {
     "data": {
      "text/plain": [
       "0"
      ]
     },
     "execution_count": 10,
     "metadata": {},
     "output_type": "execute_result"
    }
   ],
   "source": [
    "data.duplicated().sum()                   # check if duplicates have been removed"
   ]
  },
  {
   "cell_type": "code",
   "execution_count": 11,
   "id": "a81f11a1",
   "metadata": {},
   "outputs": [],
   "source": [
    "data['Цена']=data['Цена'].str.replace(u'〒','').str.replace(u' ','')\n",
    "data['Площадь']=data['Площадь'].str.replace(u'м²','')\n",
    "data['Высота потолков']=data['Высота потолков'].str.replace(u'м','')\n",
    "data['Участок']=data['Участок'].str.replace('сот.','', regex=True)\n",
    "data['Площадь']=data['Площадь'].str.replace(u'6 сот.','0', regex=True)"
   ]
  },
  {
   "cell_type": "code",
   "execution_count": 12,
   "id": "da3809d4",
   "metadata": {},
   "outputs": [
    {
     "data": {
      "text/plain": [
       "Высота потолков    28.93\n",
       "Канализация        23.96\n",
       "Санузел            18.75\n",
       "Год                16.72\n",
       "Отопление          14.66\n",
       "Количество этаж    11.41\n",
       "Состояние           9.13\n",
       "Участок             5.75\n",
       "Заголовок           0.00\n",
       "Город               0.00\n",
       "Цена                0.00\n",
       "Адресс              0.00\n",
       "Площадь             0.00\n",
       "dtype: float64"
      ]
     },
     "execution_count": 12,
     "metadata": {},
     "output_type": "execute_result"
    }
   ],
   "source": [
    "percent_missing = (data.isnull().sum() * 100 / len(data)).round(2).sort_values(ascending=False)\n",
    "percent_missing                            # let's see the percentage of missing data"
   ]
  },
  {
   "cell_type": "code",
   "execution_count": 13,
   "id": "5a549a0c",
   "metadata": {},
   "outputs": [],
   "source": [
    "data = data.fillna({\n",
    "    'Высота потолков': 0,\n",
    "    'Канализация': 'Не указано',\n",
    "    'Санузел':'Не указано',\n",
    "    'Год': 0,\n",
    "    'Отопление':'Не указано',\n",
    "    'Количество этаж':0,\n",
    "    'Состояние':'Не указано',\n",
    "    'Участок':0\n",
    "})                                                    # change all numerical values to 0, and strings to 'Не указано'"
   ]
  },
  {
   "cell_type": "code",
   "execution_count": 14,
   "id": "f984d8ce",
   "metadata": {},
   "outputs": [
    {
     "data": {
      "text/plain": [
       "Заголовок          0.0\n",
       "Город              0.0\n",
       "Цена               0.0\n",
       "Участок            0.0\n",
       "Адресс             0.0\n",
       "Год                0.0\n",
       "Площадь            0.0\n",
       "Состояние          0.0\n",
       "Санузел            0.0\n",
       "Отопление          0.0\n",
       "Количество этаж    0.0\n",
       "Высота потолков    0.0\n",
       "Канализация        0.0\n",
       "dtype: float64"
      ]
     },
     "execution_count": 14,
     "metadata": {},
     "output_type": "execute_result"
    }
   ],
   "source": [
    "percent_missing = (data.isnull().sum() * 100 / len(data)).round(2).sort_values(ascending=False)\n",
    "percent_missing                                       # check if there are missing data"
   ]
  },
  {
   "cell_type": "code",
   "execution_count": 15,
   "id": "57b58165",
   "metadata": {},
   "outputs": [
    {
     "data": {
      "text/html": [
       "<div>\n",
       "<style scoped>\n",
       "    .dataframe tbody tr th:only-of-type {\n",
       "        vertical-align: middle;\n",
       "    }\n",
       "\n",
       "    .dataframe tbody tr th {\n",
       "        vertical-align: top;\n",
       "    }\n",
       "\n",
       "    .dataframe thead th {\n",
       "        text-align: right;\n",
       "    }\n",
       "</style>\n",
       "<table border=\"1\" class=\"dataframe\">\n",
       "  <thead>\n",
       "    <tr style=\"text-align: right;\">\n",
       "      <th></th>\n",
       "      <th>Заголовок</th>\n",
       "      <th>Город</th>\n",
       "      <th>Цена</th>\n",
       "      <th>Участок</th>\n",
       "      <th>Адресс</th>\n",
       "      <th>Год</th>\n",
       "      <th>Площадь</th>\n",
       "      <th>Состояние</th>\n",
       "      <th>Санузел</th>\n",
       "      <th>Отопление</th>\n",
       "      <th>Количество этаж</th>\n",
       "      <th>Высота потолков</th>\n",
       "      <th>Канализация</th>\n",
       "    </tr>\n",
       "  </thead>\n",
       "  <tbody>\n",
       "    <tr>\n",
       "      <th>0</th>\n",
       "      <td>3-комнатный дом</td>\n",
       "      <td>Талдыкорган</td>\n",
       "      <td>19000000</td>\n",
       "      <td>7</td>\n",
       "      <td>Есетова</td>\n",
       "      <td>2018</td>\n",
       "      <td>140</td>\n",
       "      <td>не достроено</td>\n",
       "      <td>Не указано</td>\n",
       "      <td>на газе</td>\n",
       "      <td>0</td>\n",
       "      <td>0</td>\n",
       "      <td>Не указано</td>\n",
       "    </tr>\n",
       "    <tr>\n",
       "      <th>1</th>\n",
       "      <td>4-комнатный дом</td>\n",
       "      <td>Нур-Султан (Астана)</td>\n",
       "      <td>51000000</td>\n",
       "      <td>10</td>\n",
       "      <td>Субханбердина 10/1</td>\n",
       "      <td>2008</td>\n",
       "      <td>130</td>\n",
       "      <td>евроремонт</td>\n",
       "      <td>2 с/у и более</td>\n",
       "      <td>центральное</td>\n",
       "      <td>2</td>\n",
       "      <td>3</td>\n",
       "      <td>центральная</td>\n",
       "    </tr>\n",
       "    <tr>\n",
       "      <th>2</th>\n",
       "      <td>5-комнатный дом</td>\n",
       "      <td>Алматы</td>\n",
       "      <td>395000000</td>\n",
       "      <td>14</td>\n",
       "      <td>Кербулакская 13</td>\n",
       "      <td>2008</td>\n",
       "      <td>375</td>\n",
       "      <td>хорошее</td>\n",
       "      <td>2 с/у и более</td>\n",
       "      <td>на газе</td>\n",
       "      <td>3</td>\n",
       "      <td>0</td>\n",
       "      <td>центральная</td>\n",
       "    </tr>\n",
       "    <tr>\n",
       "      <th>3</th>\n",
       "      <td>3-комнатный дом</td>\n",
       "      <td>Алматы</td>\n",
       "      <td>46800000</td>\n",
       "      <td>5.85</td>\n",
       "      <td>Кастеева 44А — Кабанбай батыра</td>\n",
       "      <td>0</td>\n",
       "      <td>50</td>\n",
       "      <td>Не указано</td>\n",
       "      <td>раздельный</td>\n",
       "      <td>на газе</td>\n",
       "      <td>1</td>\n",
       "      <td>2.8</td>\n",
       "      <td>центральная</td>\n",
       "    </tr>\n",
       "    <tr>\n",
       "      <th>4</th>\n",
       "      <td>7-комнатный дом</td>\n",
       "      <td>Сарыагаш</td>\n",
       "      <td>35000000</td>\n",
       "      <td>12</td>\n",
       "      <td>Самал 1 Естемесулы 60</td>\n",
       "      <td>2020</td>\n",
       "      <td>270</td>\n",
       "      <td>Не указано</td>\n",
       "      <td>Не указано</td>\n",
       "      <td>Не указано</td>\n",
       "      <td>0</td>\n",
       "      <td>0</td>\n",
       "      <td>Не указано</td>\n",
       "    </tr>\n",
       "    <tr>\n",
       "      <th>...</th>\n",
       "      <td>...</td>\n",
       "      <td>...</td>\n",
       "      <td>...</td>\n",
       "      <td>...</td>\n",
       "      <td>...</td>\n",
       "      <td>...</td>\n",
       "      <td>...</td>\n",
       "      <td>...</td>\n",
       "      <td>...</td>\n",
       "      <td>...</td>\n",
       "      <td>...</td>\n",
       "      <td>...</td>\n",
       "      <td>...</td>\n",
       "    </tr>\n",
       "    <tr>\n",
       "      <th>20001</th>\n",
       "      <td>4-комнатный дом</td>\n",
       "      <td>Шымкент</td>\n",
       "      <td>45000000</td>\n",
       "      <td>8</td>\n",
       "      <td>улица Кахарман 221 — Сиргели</td>\n",
       "      <td>2003</td>\n",
       "      <td>110</td>\n",
       "      <td>хорошее</td>\n",
       "      <td>раздельный</td>\n",
       "      <td>на газе</td>\n",
       "      <td>1</td>\n",
       "      <td>2.8</td>\n",
       "      <td>центральная</td>\n",
       "    </tr>\n",
       "    <tr>\n",
       "      <th>20002</th>\n",
       "      <td>4-комнатный дом</td>\n",
       "      <td>Новая Бухтарма</td>\n",
       "      <td>16000000</td>\n",
       "      <td>3</td>\n",
       "      <td>Косова 7/3</td>\n",
       "      <td>1972</td>\n",
       "      <td>107</td>\n",
       "      <td>хорошее</td>\n",
       "      <td>2 с/у и более</td>\n",
       "      <td>центральное</td>\n",
       "      <td>2</td>\n",
       "      <td>2.7</td>\n",
       "      <td>септик</td>\n",
       "    </tr>\n",
       "    <tr>\n",
       "      <th>20003</th>\n",
       "      <td>5-комнатный дом</td>\n",
       "      <td>Серебрянск</td>\n",
       "      <td>8500000</td>\n",
       "      <td>10</td>\n",
       "      <td>Первомайская улица</td>\n",
       "      <td>2018</td>\n",
       "      <td>130</td>\n",
       "      <td>евроремонт</td>\n",
       "      <td>совмещенный</td>\n",
       "      <td>на твердом топливе</td>\n",
       "      <td>2</td>\n",
       "      <td>2.5</td>\n",
       "      <td>Не указано</td>\n",
       "    </tr>\n",
       "    <tr>\n",
       "      <th>20004</th>\n",
       "      <td>4-комнатный дом</td>\n",
       "      <td>Алматы</td>\n",
       "      <td>54000000</td>\n",
       "      <td>6</td>\n",
       "      <td>мкр Тастыбулак</td>\n",
       "      <td>2000</td>\n",
       "      <td>130</td>\n",
       "      <td>хорошее</td>\n",
       "      <td>совмещенный</td>\n",
       "      <td>на газе</td>\n",
       "      <td>2</td>\n",
       "      <td>0</td>\n",
       "      <td>септик</td>\n",
       "    </tr>\n",
       "    <tr>\n",
       "      <th>20005</th>\n",
       "      <td>5-комнатный дом</td>\n",
       "      <td>Шымкент</td>\n",
       "      <td>75000000</td>\n",
       "      <td>10</td>\n",
       "      <td>мкр Верхний Отырар — Рыскулова</td>\n",
       "      <td>2010</td>\n",
       "      <td>250</td>\n",
       "      <td>хорошее</td>\n",
       "      <td>Не указано</td>\n",
       "      <td>Не указано</td>\n",
       "      <td>1</td>\n",
       "      <td>3.2</td>\n",
       "      <td>Не указано</td>\n",
       "    </tr>\n",
       "  </tbody>\n",
       "</table>\n",
       "<p>18048 rows × 13 columns</p>\n",
       "</div>"
      ],
      "text/plain": [
       "             Заголовок                Город       Цена Участок  \\\n",
       "0      3-комнатный дом          Талдыкорган   19000000      7    \n",
       "1      4-комнатный дом  Нур-Султан (Астана)   51000000     10    \n",
       "2      5-комнатный дом               Алматы  395000000     14    \n",
       "3      3-комнатный дом               Алматы   46800000   5.85    \n",
       "4      7-комнатный дом             Сарыагаш   35000000     12    \n",
       "...                ...                  ...        ...     ...   \n",
       "20001  4-комнатный дом              Шымкент   45000000      8    \n",
       "20002  4-комнатный дом       Новая Бухтарма   16000000      3    \n",
       "20003  5-комнатный дом           Серебрянск    8500000     10    \n",
       "20004  4-комнатный дом               Алматы   54000000      6    \n",
       "20005  5-комнатный дом              Шымкент   75000000     10    \n",
       "\n",
       "                                Адресс   Год Площадь     Состояние  \\\n",
       "0                              Есетова  2018    140   не достроено   \n",
       "1                   Субханбердина 10/1  2008    130     евроремонт   \n",
       "2                      Кербулакская 13  2008    375        хорошее   \n",
       "3       Кастеева 44А — Кабанбай батыра     0     50     Не указано   \n",
       "4                Самал 1 Естемесулы 60  2020    270     Не указано   \n",
       "...                                ...   ...     ...           ...   \n",
       "20001     улица Кахарман 221 — Сиргели  2003    110        хорошее   \n",
       "20002                       Косова 7/3  1972    107        хорошее   \n",
       "20003               Первомайская улица  2018    130     евроремонт   \n",
       "20004                   мкр Тастыбулак  2000    130        хорошее   \n",
       "20005   мкр Верхний Отырар — Рыскулова  2010    250        хорошее   \n",
       "\n",
       "             Санузел           Отопление Количество этаж Высота потолков  \\\n",
       "0         Не указано             на газе               0               0   \n",
       "1      2 с/у и более         центральное               2              3    \n",
       "2      2 с/у и более             на газе               3               0   \n",
       "3         раздельный             на газе               1            2.8    \n",
       "4         Не указано          Не указано               0               0   \n",
       "...              ...                 ...             ...             ...   \n",
       "20001     раздельный             на газе               1            2.8    \n",
       "20002  2 с/у и более         центральное               2            2.7    \n",
       "20003    совмещенный  на твердом топливе               2            2.5    \n",
       "20004    совмещенный             на газе               2               0   \n",
       "20005     Не указано          Не указано               1            3.2    \n",
       "\n",
       "       Канализация  \n",
       "0       Не указано  \n",
       "1      центральная  \n",
       "2      центральная  \n",
       "3      центральная  \n",
       "4       Не указано  \n",
       "...            ...  \n",
       "20001  центральная  \n",
       "20002       септик  \n",
       "20003   Не указано  \n",
       "20004       септик  \n",
       "20005   Не указано  \n",
       "\n",
       "[18048 rows x 13 columns]"
      ]
     },
     "execution_count": 15,
     "metadata": {},
     "output_type": "execute_result"
    }
   ],
   "source": [
    "data       "
   ]
  },
  {
   "cell_type": "code",
   "execution_count": 16,
   "id": "7f467d82",
   "metadata": {},
   "outputs": [
    {
     "name": "stdout",
     "output_type": "stream",
     "text": [
      "<class 'pandas.core.frame.DataFrame'>\n",
      "Int64Index: 18048 entries, 0 to 20005\n",
      "Data columns (total 13 columns):\n",
      " #   Column           Non-Null Count  Dtype \n",
      "---  ------           --------------  ----- \n",
      " 0   Заголовок        18048 non-null  object\n",
      " 1   Город            18048 non-null  object\n",
      " 2   Цена             18048 non-null  object\n",
      " 3   Участок          18048 non-null  object\n",
      " 4   Адресс           18048 non-null  object\n",
      " 5   Год              18048 non-null  object\n",
      " 6   Площадь          18048 non-null  object\n",
      " 7   Состояние        18048 non-null  object\n",
      " 8   Санузел          18048 non-null  object\n",
      " 9   Отопление        18048 non-null  object\n",
      " 10  Количество этаж  18048 non-null  object\n",
      " 11  Высота потолков  18048 non-null  object\n",
      " 12  Канализация      18048 non-null  object\n",
      "dtypes: object(13)\n",
      "memory usage: 1.9+ MB\n"
     ]
    }
   ],
   "source": [
    "data.info()                                              # we see that the numeric data is of the object type"
   ]
  },
  {
   "cell_type": "code",
   "execution_count": 17,
   "id": "72460042",
   "metadata": {},
   "outputs": [],
   "source": [
    "data['Цена'] = [int(x) if type(x) == str else x for x in data['Цена']]     # all numerical data change the type to numerical\n",
    "data['Год']=data['Год'].astype(int)\n",
    "data['Количество этаж']=data['Количество этаж'].astype(int)\n",
    "data['Высота потолков']=data['Высота потолков'].astype(float)\n",
    "data['Участок']=data['Участок'].astype(float)\n",
    "data['Площадь']=data['Площадь'].astype(float)"
   ]
  },
  {
   "cell_type": "code",
   "execution_count": 18,
   "id": "2859908b",
   "metadata": {},
   "outputs": [
    {
     "name": "stdout",
     "output_type": "stream",
     "text": [
      "<class 'pandas.core.frame.DataFrame'>\n",
      "Int64Index: 18048 entries, 0 to 20005\n",
      "Data columns (total 13 columns):\n",
      " #   Column           Non-Null Count  Dtype  \n",
      "---  ------           --------------  -----  \n",
      " 0   Заголовок        18048 non-null  object \n",
      " 1   Город            18048 non-null  object \n",
      " 2   Цена             18048 non-null  int64  \n",
      " 3   Участок          18048 non-null  float64\n",
      " 4   Адресс           18048 non-null  object \n",
      " 5   Год              18048 non-null  int32  \n",
      " 6   Площадь          18048 non-null  float64\n",
      " 7   Состояние        18048 non-null  object \n",
      " 8   Санузел          18048 non-null  object \n",
      " 9   Отопление        18048 non-null  object \n",
      " 10  Количество этаж  18048 non-null  int32  \n",
      " 11  Высота потолков  18048 non-null  float64\n",
      " 12  Канализация      18048 non-null  object \n",
      "dtypes: float64(3), int32(2), int64(1), object(7)\n",
      "memory usage: 1.8+ MB\n"
     ]
    }
   ],
   "source": [
    "data.info()                                                       # we see that everything has fallen into place"
   ]
  },
  {
   "cell_type": "code",
   "execution_count": 19,
   "id": "0e609295",
   "metadata": {},
   "outputs": [],
   "source": [
    "data = data.rename(columns={'Участок': 'Участок, сот', 'Площадь': 'Площадь, м²', 'Цена':'Цена, 〒'})\n",
    "# since we have changed some data, we will add amendments to their name column"
   ]
  },
  {
   "cell_type": "markdown",
   "id": "1fc67a32",
   "metadata": {},
   "source": [
    "# Data Visualization"
   ]
  },
  {
   "cell_type": "code",
   "execution_count": 20,
   "id": "8d9f640f",
   "metadata": {},
   "outputs": [],
   "source": [
    "data['Заголовок'] = [int(x[:x.find('-')]) if type(x) == str else x for x in data['Заголовок']]\n",
    "# We convert the number of rooms to integer, the number of rooms is indicated in the 'Заголовок' column"
   ]
  },
  {
   "cell_type": "code",
   "execution_count": 21,
   "id": "c71fbd6d",
   "metadata": {},
   "outputs": [
    {
     "data": {
      "text/html": [
       "<div>\n",
       "<style scoped>\n",
       "    .dataframe tbody tr th:only-of-type {\n",
       "        vertical-align: middle;\n",
       "    }\n",
       "\n",
       "    .dataframe tbody tr th {\n",
       "        vertical-align: top;\n",
       "    }\n",
       "\n",
       "    .dataframe thead th {\n",
       "        text-align: right;\n",
       "    }\n",
       "</style>\n",
       "<table border=\"1\" class=\"dataframe\">\n",
       "  <thead>\n",
       "    <tr style=\"text-align: right;\">\n",
       "      <th></th>\n",
       "      <th>Заголовок</th>\n",
       "      <th>Город</th>\n",
       "      <th>Цена, 〒</th>\n",
       "      <th>Участок, сот</th>\n",
       "      <th>Адресс</th>\n",
       "      <th>Год</th>\n",
       "      <th>Площадь, м²</th>\n",
       "      <th>Состояние</th>\n",
       "      <th>Санузел</th>\n",
       "      <th>Отопление</th>\n",
       "      <th>Количество этаж</th>\n",
       "      <th>Высота потолков</th>\n",
       "      <th>Канализация</th>\n",
       "    </tr>\n",
       "  </thead>\n",
       "  <tbody>\n",
       "    <tr>\n",
       "      <th>0</th>\n",
       "      <td>3</td>\n",
       "      <td>Талдыкорган</td>\n",
       "      <td>19000000</td>\n",
       "      <td>7.00</td>\n",
       "      <td>Есетова</td>\n",
       "      <td>2018</td>\n",
       "      <td>140.0</td>\n",
       "      <td>не достроено</td>\n",
       "      <td>Не указано</td>\n",
       "      <td>на газе</td>\n",
       "      <td>0</td>\n",
       "      <td>0.0</td>\n",
       "      <td>Не указано</td>\n",
       "    </tr>\n",
       "    <tr>\n",
       "      <th>1</th>\n",
       "      <td>4</td>\n",
       "      <td>Нур-Султан (Астана)</td>\n",
       "      <td>51000000</td>\n",
       "      <td>10.00</td>\n",
       "      <td>Субханбердина 10/1</td>\n",
       "      <td>2008</td>\n",
       "      <td>130.0</td>\n",
       "      <td>евроремонт</td>\n",
       "      <td>2 с/у и более</td>\n",
       "      <td>центральное</td>\n",
       "      <td>2</td>\n",
       "      <td>3.0</td>\n",
       "      <td>центральная</td>\n",
       "    </tr>\n",
       "    <tr>\n",
       "      <th>2</th>\n",
       "      <td>5</td>\n",
       "      <td>Алматы</td>\n",
       "      <td>395000000</td>\n",
       "      <td>14.00</td>\n",
       "      <td>Кербулакская 13</td>\n",
       "      <td>2008</td>\n",
       "      <td>375.0</td>\n",
       "      <td>хорошее</td>\n",
       "      <td>2 с/у и более</td>\n",
       "      <td>на газе</td>\n",
       "      <td>3</td>\n",
       "      <td>0.0</td>\n",
       "      <td>центральная</td>\n",
       "    </tr>\n",
       "    <tr>\n",
       "      <th>3</th>\n",
       "      <td>3</td>\n",
       "      <td>Алматы</td>\n",
       "      <td>46800000</td>\n",
       "      <td>5.85</td>\n",
       "      <td>Кастеева 44А — Кабанбай батыра</td>\n",
       "      <td>0</td>\n",
       "      <td>50.0</td>\n",
       "      <td>Не указано</td>\n",
       "      <td>раздельный</td>\n",
       "      <td>на газе</td>\n",
       "      <td>1</td>\n",
       "      <td>2.8</td>\n",
       "      <td>центральная</td>\n",
       "    </tr>\n",
       "    <tr>\n",
       "      <th>4</th>\n",
       "      <td>7</td>\n",
       "      <td>Сарыагаш</td>\n",
       "      <td>35000000</td>\n",
       "      <td>12.00</td>\n",
       "      <td>Самал 1 Естемесулы 60</td>\n",
       "      <td>2020</td>\n",
       "      <td>270.0</td>\n",
       "      <td>Не указано</td>\n",
       "      <td>Не указано</td>\n",
       "      <td>Не указано</td>\n",
       "      <td>0</td>\n",
       "      <td>0.0</td>\n",
       "      <td>Не указано</td>\n",
       "    </tr>\n",
       "  </tbody>\n",
       "</table>\n",
       "</div>"
      ],
      "text/plain": [
       "   Заголовок                Город    Цена, 〒  Участок, сот  \\\n",
       "0          3          Талдыкорган   19000000          7.00   \n",
       "1          4  Нур-Султан (Астана)   51000000         10.00   \n",
       "2          5               Алматы  395000000         14.00   \n",
       "3          3               Алматы   46800000          5.85   \n",
       "4          7             Сарыагаш   35000000         12.00   \n",
       "\n",
       "                            Адресс   Год  Площадь, м²     Состояние  \\\n",
       "0                          Есетова  2018        140.0  не достроено   \n",
       "1               Субханбердина 10/1  2008        130.0    евроремонт   \n",
       "2                  Кербулакская 13  2008        375.0       хорошее   \n",
       "3   Кастеева 44А — Кабанбай батыра     0         50.0    Не указано   \n",
       "4            Самал 1 Естемесулы 60  2020        270.0    Не указано   \n",
       "\n",
       "         Санузел    Отопление  Количество этаж  Высота потолков  Канализация  \n",
       "0     Не указано      на газе                0              0.0   Не указано  \n",
       "1  2 с/у и более  центральное                2              3.0  центральная  \n",
       "2  2 с/у и более      на газе                3              0.0  центральная  \n",
       "3     раздельный      на газе                1              2.8  центральная  \n",
       "4     Не указано   Не указано                0              0.0   Не указано  "
      ]
     },
     "execution_count": 21,
     "metadata": {},
     "output_type": "execute_result"
    }
   ],
   "source": [
    "data.head()"
   ]
  },
  {
   "cell_type": "code",
   "execution_count": 22,
   "id": "180faef3",
   "metadata": {},
   "outputs": [
    {
     "data": {
      "text/plain": [
       "array(['не достроено', 'евроремонт', 'хорошее', 'Не указано',\n",
       "       'требует ремонта', 'черновая отделка', 'среднее',\n",
       "       'свободная планировка'], dtype=object)"
      ]
     },
     "execution_count": 22,
     "metadata": {},
     "output_type": "execute_result"
    }
   ],
   "source": [
    "data['Состояние'].unique()                                      # find the states of the house"
   ]
  },
  {
   "cell_type": "code",
   "execution_count": 23,
   "id": "22c3e6b9",
   "metadata": {},
   "outputs": [
    {
     "data": {
      "text/plain": [
       "array(['Не указано', '2 с/у и более', 'раздельный', 'совмещенный',\n",
       "       'во дворе'], dtype=object)"
      ]
     },
     "execution_count": 23,
     "metadata": {},
     "output_type": "execute_result"
    }
   ],
   "source": [
    "data['Санузел'].unique()                                        # find the states of the bathroom"
   ]
  },
  {
   "cell_type": "code",
   "execution_count": 24,
   "id": "8af088f5",
   "metadata": {},
   "outputs": [],
   "source": [
    "data.loc[(data['Состояние'] == 'Не указано'), 'Состояние в цифрах'] = 0         # if 'Не указано' then 0\n",
    "data.loc[(data['Состояние'] == 'не достроено'), 'Состояние в цифрах'] = 1       # if 'не достроено' then 1\n",
    "data.loc[(data['Состояние'] == 'черновая отделка'), 'Состояние в цифрах'] = 2   # the rest on this principle\n",
    "data.loc[(data['Состояние'] == 'требует ремонта'), 'Состояние в цифрах'] = 3\n",
    "data.loc[(data['Состояние'] == 'свободная планировка'), 'Состояние в цифрах'] = 4\n",
    "data.loc[(data['Состояние'] == 'среднее'), 'Состояние в цифрах'] = 5\n",
    "data.loc[(data['Состояние'] == 'хорошее'), 'Состояние в цифрах'] = 6\n",
    "data.loc[(data['Состояние'] == 'евроремонт'), 'Состояние в цифрах'] = 7\n",
    "# give an estimate of the state in numbers to be used in the future in building a model"
   ]
  },
  {
   "cell_type": "code",
   "execution_count": 25,
   "id": "1e813570",
   "metadata": {},
   "outputs": [],
   "source": [
    "data.loc[(data['Санузел'] == 'Не указано'), 'Санузел в цифрах'] = 0\n",
    "data.loc[(data['Санузел'] == 'во дворе'), 'Санузел в цифрах'] = 1\n",
    "data.loc[(data['Санузел'] == 'совмещенный'), 'Санузел в цифрах'] = 2\n",
    "data.loc[(data['Санузел'] == 'раздельный'), 'Санузел в цифрах'] = 3\n",
    "data.loc[(data['Санузел'] == '2 с/у и более'), 'Санузел в цифрах'] = 4\n",
    "# give an estimate of the state in numbers to be used in the future in building a model"
   ]
  },
  {
   "cell_type": "code",
   "execution_count": 26,
   "id": "20df45a4",
   "metadata": {},
   "outputs": [
    {
     "data": {
      "text/html": [
       "<div>\n",
       "<style scoped>\n",
       "    .dataframe tbody tr th:only-of-type {\n",
       "        vertical-align: middle;\n",
       "    }\n",
       "\n",
       "    .dataframe tbody tr th {\n",
       "        vertical-align: top;\n",
       "    }\n",
       "\n",
       "    .dataframe thead th {\n",
       "        text-align: right;\n",
       "    }\n",
       "</style>\n",
       "<table border=\"1\" class=\"dataframe\">\n",
       "  <thead>\n",
       "    <tr style=\"text-align: right;\">\n",
       "      <th></th>\n",
       "      <th>Заголовок</th>\n",
       "      <th>Город</th>\n",
       "      <th>Цена, 〒</th>\n",
       "      <th>Участок, сот</th>\n",
       "      <th>Адресс</th>\n",
       "      <th>Год</th>\n",
       "      <th>Площадь, м²</th>\n",
       "      <th>Состояние</th>\n",
       "      <th>Санузел</th>\n",
       "      <th>Отопление</th>\n",
       "      <th>Количество этаж</th>\n",
       "      <th>Высота потолков</th>\n",
       "      <th>Канализация</th>\n",
       "      <th>Состояние в цифрах</th>\n",
       "      <th>Санузел в цифрах</th>\n",
       "    </tr>\n",
       "  </thead>\n",
       "  <tbody>\n",
       "    <tr>\n",
       "      <th>0</th>\n",
       "      <td>3</td>\n",
       "      <td>Талдыкорган</td>\n",
       "      <td>19000000</td>\n",
       "      <td>7.00</td>\n",
       "      <td>Есетова</td>\n",
       "      <td>2018</td>\n",
       "      <td>140.0</td>\n",
       "      <td>не достроено</td>\n",
       "      <td>Не указано</td>\n",
       "      <td>на газе</td>\n",
       "      <td>0</td>\n",
       "      <td>0.0</td>\n",
       "      <td>Не указано</td>\n",
       "      <td>1.0</td>\n",
       "      <td>0.0</td>\n",
       "    </tr>\n",
       "    <tr>\n",
       "      <th>1</th>\n",
       "      <td>4</td>\n",
       "      <td>Нур-Султан (Астана)</td>\n",
       "      <td>51000000</td>\n",
       "      <td>10.00</td>\n",
       "      <td>Субханбердина 10/1</td>\n",
       "      <td>2008</td>\n",
       "      <td>130.0</td>\n",
       "      <td>евроремонт</td>\n",
       "      <td>2 с/у и более</td>\n",
       "      <td>центральное</td>\n",
       "      <td>2</td>\n",
       "      <td>3.0</td>\n",
       "      <td>центральная</td>\n",
       "      <td>7.0</td>\n",
       "      <td>4.0</td>\n",
       "    </tr>\n",
       "    <tr>\n",
       "      <th>2</th>\n",
       "      <td>5</td>\n",
       "      <td>Алматы</td>\n",
       "      <td>395000000</td>\n",
       "      <td>14.00</td>\n",
       "      <td>Кербулакская 13</td>\n",
       "      <td>2008</td>\n",
       "      <td>375.0</td>\n",
       "      <td>хорошее</td>\n",
       "      <td>2 с/у и более</td>\n",
       "      <td>на газе</td>\n",
       "      <td>3</td>\n",
       "      <td>0.0</td>\n",
       "      <td>центральная</td>\n",
       "      <td>6.0</td>\n",
       "      <td>4.0</td>\n",
       "    </tr>\n",
       "    <tr>\n",
       "      <th>3</th>\n",
       "      <td>3</td>\n",
       "      <td>Алматы</td>\n",
       "      <td>46800000</td>\n",
       "      <td>5.85</td>\n",
       "      <td>Кастеева 44А — Кабанбай батыра</td>\n",
       "      <td>0</td>\n",
       "      <td>50.0</td>\n",
       "      <td>Не указано</td>\n",
       "      <td>раздельный</td>\n",
       "      <td>на газе</td>\n",
       "      <td>1</td>\n",
       "      <td>2.8</td>\n",
       "      <td>центральная</td>\n",
       "      <td>0.0</td>\n",
       "      <td>3.0</td>\n",
       "    </tr>\n",
       "    <tr>\n",
       "      <th>4</th>\n",
       "      <td>7</td>\n",
       "      <td>Сарыагаш</td>\n",
       "      <td>35000000</td>\n",
       "      <td>12.00</td>\n",
       "      <td>Самал 1 Естемесулы 60</td>\n",
       "      <td>2020</td>\n",
       "      <td>270.0</td>\n",
       "      <td>Не указано</td>\n",
       "      <td>Не указано</td>\n",
       "      <td>Не указано</td>\n",
       "      <td>0</td>\n",
       "      <td>0.0</td>\n",
       "      <td>Не указано</td>\n",
       "      <td>0.0</td>\n",
       "      <td>0.0</td>\n",
       "    </tr>\n",
       "  </tbody>\n",
       "</table>\n",
       "</div>"
      ],
      "text/plain": [
       "   Заголовок                Город    Цена, 〒  Участок, сот  \\\n",
       "0          3          Талдыкорган   19000000          7.00   \n",
       "1          4  Нур-Султан (Астана)   51000000         10.00   \n",
       "2          5               Алматы  395000000         14.00   \n",
       "3          3               Алматы   46800000          5.85   \n",
       "4          7             Сарыагаш   35000000         12.00   \n",
       "\n",
       "                            Адресс   Год  Площадь, м²     Состояние  \\\n",
       "0                          Есетова  2018        140.0  не достроено   \n",
       "1               Субханбердина 10/1  2008        130.0    евроремонт   \n",
       "2                  Кербулакская 13  2008        375.0       хорошее   \n",
       "3   Кастеева 44А — Кабанбай батыра     0         50.0    Не указано   \n",
       "4            Самал 1 Естемесулы 60  2020        270.0    Не указано   \n",
       "\n",
       "         Санузел    Отопление  Количество этаж  Высота потолков  Канализация  \\\n",
       "0     Не указано      на газе                0              0.0   Не указано   \n",
       "1  2 с/у и более  центральное                2              3.0  центральная   \n",
       "2  2 с/у и более      на газе                3              0.0  центральная   \n",
       "3     раздельный      на газе                1              2.8  центральная   \n",
       "4     Не указано   Не указано                0              0.0   Не указано   \n",
       "\n",
       "   Состояние в цифрах  Санузел в цифрах  \n",
       "0                 1.0               0.0  \n",
       "1                 7.0               4.0  \n",
       "2                 6.0               4.0  \n",
       "3                 0.0               3.0  \n",
       "4                 0.0               0.0  "
      ]
     },
     "execution_count": 26,
     "metadata": {},
     "output_type": "execute_result"
    }
   ],
   "source": [
    "data.head()                                      "
   ]
  },
  {
   "cell_type": "code",
   "execution_count": 27,
   "id": "46c5549d",
   "metadata": {},
   "outputs": [],
   "source": [
    "import matplotlib.pyplot as plt      # with it you will need much less words in the code to create high-quality graphs\n",
    "import seaborn as sb                 # it is a library for generating statistical graphs in Python"
   ]
  },
  {
   "cell_type": "code",
   "execution_count": 28,
   "id": "e2163508",
   "metadata": {},
   "outputs": [
    {
     "data": {
      "text/plain": [
       "Text(0, 0.5, 'Count')"
      ]
     },
     "execution_count": 28,
     "metadata": {},
     "output_type": "execute_result"
    },
    {
     "data": {
      "image/png": "[encoded data removed]",
      "text/plain": [
       "<Figure size 1008x792 with 1 Axes>"
      ]
     },
     "metadata": {
      "needs_background": "light"
     },
     "output_type": "display_data"
    }
   ],
   "source": [
    "a4_dims = (14, 11)                                             # assigning size of plot to variable\n",
    "fig, ax = plt.subplots(figsize=a4_dims)                        # assigning sizes to plot\n",
    "data['Заголовок'].value_counts().plot(kind='bar', ax = ax)     # creating bar chart\n",
    "                # value_counts() function returns object containing counts of unique values\n",
    "plt.title('Number of Rooms')                                   # title of number of rooms\n",
    "plt.xlabel('Rooms')                                            # x label title\n",
    "plt.ylabel('Count')                                            # y label title"
   ]
  },
  {
   "cell_type": "markdown",
   "id": "bf3ab7ed",
   "metadata": {},
   "source": [
    "## Heatmaps are very useful to find relations between two variables in a dataset. Heatmap can be easily produced using the ‘heatmap’ function provided by the seaborn package in python. "
   ]
  },
  {
   "cell_type": "code",
   "execution_count": 74,
   "id": "88ff64d8",
   "metadata": {
    "scrolled": false
   },
   "outputs": [
    {
     "data": {
      "image/png": "[encoded data removed]",
      "text/plain": [
       "<Figure size 1008x792 with 2 Axes>"
      ]
     },
     "metadata": {
      "needs_background": "light"
     },
     "output_type": "display_data"
    }
   ],
   "source": [
    "a4_dims = (14, 11)                                           # assigning size of plot to variable\n",
    "fig, ax = plt.subplots(figsize=a4_dims)                      # assigning sizes to plot\n",
    "names=['Цена, 〒', 'Заголовок', 'Участок, сот', 'Год', 'Площадь, м²', 'Количество этаж', 'Высота потолков', 'Состояние в цифрах', 'Санузел в цифрах']\n",
    "df=data[names]                                               # taking numeric value columns\n",
    "sb.heatmap(df.corr(), ax = ax, annot = True, cmap = 'magma') # creating heatmap, corr() is used to find the pairwise correlation of all columns in the dataframe.\n",
    "plt.show()"
   ]
  },
  {
   "cell_type": "markdown",
   "id": "1641c978",
   "metadata": {},
   "source": [
    "## Distribution plots are very useful to check how well a variable is distributed in the dataset. Let’s now produce a distribution plot using the ‘distplot’ function to check the distribution of the ‘House Price’ variable in the dataset."
   ]
  },
  {
   "cell_type": "code",
   "execution_count": 75,
   "id": "e6dbb93f",
   "metadata": {},
   "outputs": [
    {
     "data": {
      "image/png": "[encoded data removed]",
      "text/plain": [
       "<Figure size 1008x792 with 1 Axes>"
      ]
     },
     "metadata": {
      "needs_background": "light"
     },
     "output_type": "display_data"
    }
   ],
   "source": [
    "a4_dims = (14, 11)                                           # assigning size of plot to variable\n",
    "fig, ax = plt.subplots(figsize=a4_dims)                      # assigning sizes to plot\n",
    "sb.distplot(df['Цена, 〒'], ax=ax, color = 'r')              # creating distribution plot form House price, color is red\n",
    "plt.title('House Price Distribution', fontsize = 16)         # plot title and font size\n",
    "plt.xlabel('House Price', fontsize = 14)                     # x label and size\n",
    "plt.ylabel('Frequency', fontsize = 14)                       # y label and size\n",
    "plt.show()\n",
    "import warnings\n",
    "warnings.simplefilter(action='ignore', category=FutureWarning)"
   ]
  },
  {
   "cell_type": "markdown",
   "id": "c9957715",
   "metadata": {},
   "source": [
    "## A scatter plot is used to observe linear relations between two variables in a dataset. In a scatter plot, the dependent variable is marked on the x-axis and the independent variable is marked on the y-axis. In our case, the ‘Цена Дома’ attribute is the dependent variable, and every other are the independent variables."
   ]
  },
  {
   "cell_type": "code",
   "execution_count": 76,
   "id": "1e590ef4",
   "metadata": {},
   "outputs": [
    {
     "data": {
      "image/png": "[encoded data removed]",
      "text/plain": [
       "<Figure size 1008x792 with 1 Axes>"
      ]
     },
     "metadata": {
      "needs_background": "light"
     },
     "output_type": "display_data"
    }
   ],
   "source": [
    "a4_dims = (14, 11)                                                             # assigning size of plot to variable\n",
    "fig, ax = plt.subplots(figsize=a4_dims)                                        # assigning sizes to plot\n",
    "            # creating scatter plot, relation between Заголовок(число комнат) and Цена Дома\n",
    "plot1 = sb.scatterplot('Заголовок', 'Цена, 〒', data = data, ax = ax, color = 'orange', edgecolor = 'b', s = 150)\n",
    "plt.title('Комната / Цена Дома', fontsize = 16)                                # plot title and font size\n",
    "plt.xlabel('Комната', fontsize = 14)                                           # x label and font size\n",
    "plt.ylabel('Цена Дома', fontsize = 14)                                         # y label and font size\n",
    "plt.show() "
   ]
  },
  {
   "cell_type": "code",
   "execution_count": 77,
   "id": "40f28fb3",
   "metadata": {},
   "outputs": [
    {
     "data": {
      "image/png": "[encoded data removed]",
      "text/plain": [
       "<Figure size 1008x792 with 1 Axes>"
      ]
     },
     "metadata": {
      "needs_background": "light"
     },
     "output_type": "display_data"
    }
   ],
   "source": [
    "a4_dims = (14, 11)                                                                # assigning size of plot to variable\n",
    "fig, ax = plt.subplots(figsize=a4_dims)                                           # assigning sizes to plot\n",
    "                   # creating scatter plot, relation between Площадь and Цена Дома\n",
    "plot1 = sb.scatterplot('Площадь, м²', 'Цена, 〒', data = data, ax = ax, color = 'darkviolet', edgecolor = 'w', s = 150)\n",
    "plt.title('Площадь, м² / Цена Дома', fontsize = 16)                               # plot title and font size\n",
    "plt.xlabel('Площадь, м²', fontsize = 14)                                          # x label and font size\n",
    "plt.ylabel('Цена Дома', fontsize = 14)                                            # y label and font size\n",
    "plt.show() "
   ]
  },
  {
   "cell_type": "markdown",
   "id": "0f0f72bf",
   "metadata": {},
   "source": [
    "# Machine Learning. House price prediction"
   ]
  },
  {
   "cell_type": "code",
   "execution_count": 78,
   "id": "efa8e9b0",
   "metadata": {},
   "outputs": [],
   "source": [
    "data['price_log'] = np.log(data['Цена, 〒'])\n",
    "# Converting price house value to natural logarithm to get positive predicted value"
   ]
  },
  {
   "cell_type": "code",
   "execution_count": 79,
   "id": "1e45f6c4",
   "metadata": {},
   "outputs": [
    {
     "data": {
      "text/html": [
       "<div>\n",
       "<style scoped>\n",
       "    .dataframe tbody tr th:only-of-type {\n",
       "        vertical-align: middle;\n",
       "    }\n",
       "\n",
       "    .dataframe tbody tr th {\n",
       "        vertical-align: top;\n",
       "    }\n",
       "\n",
       "    .dataframe thead th {\n",
       "        text-align: right;\n",
       "    }\n",
       "</style>\n",
       "<table border=\"1\" class=\"dataframe\">\n",
       "  <thead>\n",
       "    <tr style=\"text-align: right;\">\n",
       "      <th></th>\n",
       "      <th>Заголовок</th>\n",
       "      <th>Город</th>\n",
       "      <th>Цена, 〒</th>\n",
       "      <th>Участок, сот</th>\n",
       "      <th>Адресс</th>\n",
       "      <th>Год</th>\n",
       "      <th>Площадь, м²</th>\n",
       "      <th>Состояние</th>\n",
       "      <th>Санузел</th>\n",
       "      <th>Отопление</th>\n",
       "      <th>Количество этаж</th>\n",
       "      <th>Высота потолков</th>\n",
       "      <th>Канализация</th>\n",
       "      <th>Состояние в цифрах</th>\n",
       "      <th>Санузел в цифрах</th>\n",
       "      <th>price_log</th>\n",
       "    </tr>\n",
       "  </thead>\n",
       "  <tbody>\n",
       "    <tr>\n",
       "      <th>0</th>\n",
       "      <td>3</td>\n",
       "      <td>Талдыкорган</td>\n",
       "      <td>19000000</td>\n",
       "      <td>7.00</td>\n",
       "      <td>Есетова</td>\n",
       "      <td>2018</td>\n",
       "      <td>140.0</td>\n",
       "      <td>не достроено</td>\n",
       "      <td>Не указано</td>\n",
       "      <td>на газе</td>\n",
       "      <td>0</td>\n",
       "      <td>0.0</td>\n",
       "      <td>Не указано</td>\n",
       "      <td>1.0</td>\n",
       "      <td>0.0</td>\n",
       "      <td>16.759950</td>\n",
       "    </tr>\n",
       "    <tr>\n",
       "      <th>1</th>\n",
       "      <td>4</td>\n",
       "      <td>Нур-Султан (Астана)</td>\n",
       "      <td>51000000</td>\n",
       "      <td>10.00</td>\n",
       "      <td>Субханбердина 10/1</td>\n",
       "      <td>2008</td>\n",
       "      <td>130.0</td>\n",
       "      <td>евроремонт</td>\n",
       "      <td>2 с/у и более</td>\n",
       "      <td>центральное</td>\n",
       "      <td>2</td>\n",
       "      <td>3.0</td>\n",
       "      <td>центральная</td>\n",
       "      <td>7.0</td>\n",
       "      <td>4.0</td>\n",
       "      <td>17.747336</td>\n",
       "    </tr>\n",
       "    <tr>\n",
       "      <th>2</th>\n",
       "      <td>5</td>\n",
       "      <td>Алматы</td>\n",
       "      <td>395000000</td>\n",
       "      <td>14.00</td>\n",
       "      <td>Кербулакская 13</td>\n",
       "      <td>2008</td>\n",
       "      <td>375.0</td>\n",
       "      <td>хорошее</td>\n",
       "      <td>2 с/у и более</td>\n",
       "      <td>на газе</td>\n",
       "      <td>3</td>\n",
       "      <td>0.0</td>\n",
       "      <td>центральная</td>\n",
       "      <td>6.0</td>\n",
       "      <td>4.0</td>\n",
       "      <td>19.794396</td>\n",
       "    </tr>\n",
       "    <tr>\n",
       "      <th>3</th>\n",
       "      <td>3</td>\n",
       "      <td>Алматы</td>\n",
       "      <td>46800000</td>\n",
       "      <td>5.85</td>\n",
       "      <td>Кастеева 44А — Кабанбай батыра</td>\n",
       "      <td>0</td>\n",
       "      <td>50.0</td>\n",
       "      <td>Не указано</td>\n",
       "      <td>раздельный</td>\n",
       "      <td>на газе</td>\n",
       "      <td>1</td>\n",
       "      <td>2.8</td>\n",
       "      <td>центральная</td>\n",
       "      <td>0.0</td>\n",
       "      <td>3.0</td>\n",
       "      <td>17.661394</td>\n",
       "    </tr>\n",
       "    <tr>\n",
       "      <th>4</th>\n",
       "      <td>7</td>\n",
       "      <td>Сарыагаш</td>\n",
       "      <td>35000000</td>\n",
       "      <td>12.00</td>\n",
       "      <td>Самал 1 Естемесулы 60</td>\n",
       "      <td>2020</td>\n",
       "      <td>270.0</td>\n",
       "      <td>Не указано</td>\n",
       "      <td>Не указано</td>\n",
       "      <td>Не указано</td>\n",
       "      <td>0</td>\n",
       "      <td>0.0</td>\n",
       "      <td>Не указано</td>\n",
       "      <td>0.0</td>\n",
       "      <td>0.0</td>\n",
       "      <td>17.370859</td>\n",
       "    </tr>\n",
       "    <tr>\n",
       "      <th>...</th>\n",
       "      <td>...</td>\n",
       "      <td>...</td>\n",
       "      <td>...</td>\n",
       "      <td>...</td>\n",
       "      <td>...</td>\n",
       "      <td>...</td>\n",
       "      <td>...</td>\n",
       "      <td>...</td>\n",
       "      <td>...</td>\n",
       "      <td>...</td>\n",
       "      <td>...</td>\n",
       "      <td>...</td>\n",
       "      <td>...</td>\n",
       "      <td>...</td>\n",
       "      <td>...</td>\n",
       "      <td>...</td>\n",
       "    </tr>\n",
       "    <tr>\n",
       "      <th>20001</th>\n",
       "      <td>4</td>\n",
       "      <td>Шымкент</td>\n",
       "      <td>45000000</td>\n",
       "      <td>8.00</td>\n",
       "      <td>улица Кахарман 221 — Сиргели</td>\n",
       "      <td>2003</td>\n",
       "      <td>110.0</td>\n",
       "      <td>хорошее</td>\n",
       "      <td>раздельный</td>\n",
       "      <td>на газе</td>\n",
       "      <td>1</td>\n",
       "      <td>2.8</td>\n",
       "      <td>центральная</td>\n",
       "      <td>6.0</td>\n",
       "      <td>3.0</td>\n",
       "      <td>17.622173</td>\n",
       "    </tr>\n",
       "    <tr>\n",
       "      <th>20002</th>\n",
       "      <td>4</td>\n",
       "      <td>Новая Бухтарма</td>\n",
       "      <td>16000000</td>\n",
       "      <td>3.00</td>\n",
       "      <td>Косова 7/3</td>\n",
       "      <td>1972</td>\n",
       "      <td>107.0</td>\n",
       "      <td>хорошее</td>\n",
       "      <td>2 с/у и более</td>\n",
       "      <td>центральное</td>\n",
       "      <td>2</td>\n",
       "      <td>2.7</td>\n",
       "      <td>септик</td>\n",
       "      <td>6.0</td>\n",
       "      <td>4.0</td>\n",
       "      <td>16.588099</td>\n",
       "    </tr>\n",
       "    <tr>\n",
       "      <th>20003</th>\n",
       "      <td>5</td>\n",
       "      <td>Серебрянск</td>\n",
       "      <td>8500000</td>\n",
       "      <td>10.00</td>\n",
       "      <td>Первомайская улица</td>\n",
       "      <td>2018</td>\n",
       "      <td>130.0</td>\n",
       "      <td>евроремонт</td>\n",
       "      <td>совмещенный</td>\n",
       "      <td>на твердом топливе</td>\n",
       "      <td>2</td>\n",
       "      <td>2.5</td>\n",
       "      <td>Не указано</td>\n",
       "      <td>7.0</td>\n",
       "      <td>2.0</td>\n",
       "      <td>15.955577</td>\n",
       "    </tr>\n",
       "    <tr>\n",
       "      <th>20004</th>\n",
       "      <td>4</td>\n",
       "      <td>Алматы</td>\n",
       "      <td>54000000</td>\n",
       "      <td>6.00</td>\n",
       "      <td>мкр Тастыбулак</td>\n",
       "      <td>2000</td>\n",
       "      <td>130.0</td>\n",
       "      <td>хорошее</td>\n",
       "      <td>совмещенный</td>\n",
       "      <td>на газе</td>\n",
       "      <td>2</td>\n",
       "      <td>0.0</td>\n",
       "      <td>септик</td>\n",
       "      <td>6.0</td>\n",
       "      <td>2.0</td>\n",
       "      <td>17.804495</td>\n",
       "    </tr>\n",
       "    <tr>\n",
       "      <th>20005</th>\n",
       "      <td>5</td>\n",
       "      <td>Шымкент</td>\n",
       "      <td>75000000</td>\n",
       "      <td>10.00</td>\n",
       "      <td>мкр Верхний Отырар — Рыскулова</td>\n",
       "      <td>2010</td>\n",
       "      <td>250.0</td>\n",
       "      <td>хорошее</td>\n",
       "      <td>Не указано</td>\n",
       "      <td>Не указано</td>\n",
       "      <td>1</td>\n",
       "      <td>3.2</td>\n",
       "      <td>Не указано</td>\n",
       "      <td>6.0</td>\n",
       "      <td>0.0</td>\n",
       "      <td>18.132999</td>\n",
       "    </tr>\n",
       "  </tbody>\n",
       "</table>\n",
       "<p>18048 rows × 16 columns</p>\n",
       "</div>"
      ],
      "text/plain": [
       "       Заголовок                Город    Цена, 〒  Участок, сот  \\\n",
       "0              3          Талдыкорган   19000000          7.00   \n",
       "1              4  Нур-Султан (Астана)   51000000         10.00   \n",
       "2              5               Алматы  395000000         14.00   \n",
       "3              3               Алматы   46800000          5.85   \n",
       "4              7             Сарыагаш   35000000         12.00   \n",
       "...          ...                  ...        ...           ...   \n",
       "20001          4              Шымкент   45000000          8.00   \n",
       "20002          4       Новая Бухтарма   16000000          3.00   \n",
       "20003          5           Серебрянск    8500000         10.00   \n",
       "20004          4               Алматы   54000000          6.00   \n",
       "20005          5              Шымкент   75000000         10.00   \n",
       "\n",
       "                                Адресс   Год  Площадь, м²     Состояние  \\\n",
       "0                              Есетова  2018        140.0  не достроено   \n",
       "1                   Субханбердина 10/1  2008        130.0    евроремонт   \n",
       "2                      Кербулакская 13  2008        375.0       хорошее   \n",
       "3       Кастеева 44А — Кабанбай батыра     0         50.0    Не указано   \n",
       "4                Самал 1 Естемесулы 60  2020        270.0    Не указано   \n",
       "...                                ...   ...          ...           ...   \n",
       "20001     улица Кахарман 221 — Сиргели  2003        110.0       хорошее   \n",
       "20002                       Косова 7/3  1972        107.0       хорошее   \n",
       "20003               Первомайская улица  2018        130.0    евроремонт   \n",
       "20004                   мкр Тастыбулак  2000        130.0       хорошее   \n",
       "20005   мкр Верхний Отырар — Рыскулова  2010        250.0       хорошее   \n",
       "\n",
       "             Санузел           Отопление  Количество этаж  Высота потолков  \\\n",
       "0         Не указано             на газе                0              0.0   \n",
       "1      2 с/у и более         центральное                2              3.0   \n",
       "2      2 с/у и более             на газе                3              0.0   \n",
       "3         раздельный             на газе                1              2.8   \n",
       "4         Не указано          Не указано                0              0.0   \n",
       "...              ...                 ...              ...              ...   \n",
       "20001     раздельный             на газе                1              2.8   \n",
       "20002  2 с/у и более         центральное                2              2.7   \n",
       "20003    совмещенный  на твердом топливе                2              2.5   \n",
       "20004    совмещенный             на газе                2              0.0   \n",
       "20005     Не указано          Не указано                1              3.2   \n",
       "\n",
       "       Канализация  Состояние в цифрах  Санузел в цифрах  price_log  \n",
       "0       Не указано                 1.0               0.0  16.759950  \n",
       "1      центральная                 7.0               4.0  17.747336  \n",
       "2      центральная                 6.0               4.0  19.794396  \n",
       "3      центральная                 0.0               3.0  17.661394  \n",
       "4       Не указано                 0.0               0.0  17.370859  \n",
       "...            ...                 ...               ...        ...  \n",
       "20001  центральная                 6.0               3.0  17.622173  \n",
       "20002       септик                 6.0               4.0  16.588099  \n",
       "20003   Не указано                 7.0               2.0  15.955577  \n",
       "20004       септик                 6.0               2.0  17.804495  \n",
       "20005   Не указано                 6.0               0.0  18.132999  \n",
       "\n",
       "[18048 rows x 16 columns]"
      ]
     },
     "execution_count": 79,
     "metadata": {},
     "output_type": "execute_result"
    }
   ],
   "source": [
    "data"
   ]
  },
  {
   "cell_type": "code",
   "execution_count": 80,
   "id": "f36cf4a4",
   "metadata": {},
   "outputs": [],
   "source": [
    "# Assigning these columns to X as independent values (numpy array)\n",
    "X = data[['Заголовок', 'Участок, сот', 'Год', 'Площадь, м²', 'Количество этаж', 'Высота потолков', 'Состояние в цифрах', 'Санузел в цифрах']].values\n",
    "y = data['price_log'].values                  # taking price_log column as dependent value, we are going to predict price_log"
   ]
  },
  {
   "cell_type": "code",
   "execution_count": 81,
   "id": "c9b08705",
   "metadata": {},
   "outputs": [],
   "source": [
    "from sklearn.impute import SimpleImputer\n",
    "imputer = SimpleImputer(missing_values=0, strategy='mean')\n",
    "imputer.fit(X[:, :])\n",
    "X[:, :] = imputer.transform(X[:, :])\n",
    "                   # Taking care of missing values, we've assigned to them 0. Now we assign to them average value of the column"
   ]
  },
  {
   "cell_type": "code",
   "execution_count": 82,
   "id": "0460032d",
   "metadata": {},
   "outputs": [],
   "source": [
    "from sklearn.model_selection import train_test_split \n",
    "X_train, X_test, y_train, y_test = train_test_split(X, y, test_size = 0.2, random_state = 0)\n",
    "                   # Splitting the dataset into the Training set and Test set"
   ]
  },
  {
   "cell_type": "code",
   "execution_count": 83,
   "id": "c8c6246d",
   "metadata": {},
   "outputs": [
    {
     "data": {
      "text/plain": [
       "LinearRegression()"
      ]
     },
     "execution_count": 83,
     "metadata": {},
     "output_type": "execute_result"
    }
   ],
   "source": [
    "from sklearn.linear_model import LinearRegression\n",
    "regressor = LinearRegression()\n",
    "regressor.fit(X_train, y_train)\n",
    "                   # Training the Multiple Linear Regression model on the Training set"
   ]
  },
  {
   "cell_type": "code",
   "execution_count": 84,
   "id": "65f492e1",
   "metadata": {},
   "outputs": [],
   "source": [
    "y_pred = regressor.predict(X_test)\n",
    "                   # Predicting the Test set results"
   ]
  },
  {
   "cell_type": "code",
   "execution_count": 85,
   "id": "c7f1de5d",
   "metadata": {},
   "outputs": [
    {
     "name": "stdout",
     "output_type": "stream",
     "text": [
      "0.5728760478865429\n"
     ]
    }
   ],
   "source": [
    "print(regressor.score(X_test, y_test))\n",
    "                   # Accuracy of prediction is 57%"
   ]
  },
  {
   "cell_type": "code",
   "execution_count": 86,
   "id": "4210a0be",
   "metadata": {},
   "outputs": [
    {
     "data": {
      "text/plain": [
       "array([35000000.00000002, 22999999.99999999,  1000000.        , ...,\n",
       "        8500000.        , 22999999.99999999, 52500000.        ])"
      ]
     },
     "execution_count": 86,
     "metadata": {},
     "output_type": "execute_result"
    }
   ],
   "source": [
    "y_test = np.exp(y_test)\n",
    "y_test\n",
    "                    # Converting test price_log to initial House price through exp method"
   ]
  },
  {
   "cell_type": "code",
   "execution_count": 87,
   "id": "ebdfad40",
   "metadata": {},
   "outputs": [
    {
     "data": {
      "text/plain": [
       "array([25268429.47150438, 26788883.1309056 , 13539300.01050828, ...,\n",
       "       16852942.3410241 , 50476370.43680277, 34710790.28533939])"
      ]
     },
     "execution_count": 87,
     "metadata": {},
     "output_type": "execute_result"
    }
   ],
   "source": [
    "y_pred = np.exp(y_pred)\n",
    "y_pred\n",
    "                    # Converting predicted price_log to initial House price through exp method"
   ]
  },
  {
   "cell_type": "code",
   "execution_count": 88,
   "id": "0d7ec02e",
   "metadata": {},
   "outputs": [
    {
     "data": {
      "text/plain": [
       "array([4.00000000e+00, 1.00000000e+01, 1.99600000e+03, 1.20000000e+02,\n",
       "       1.53086497e+00, 3.32164580e+00, 5.00000000e+00, 2.66087016e+00])"
      ]
     },
     "execution_count": 88,
     "metadata": {},
     "output_type": "execute_result"
    }
   ],
   "source": [
    "X_test[10]          # taking 10 element's values to make predict"
   ]
  },
  {
   "cell_type": "code",
   "execution_count": 89,
   "id": "e3656ae9",
   "metadata": {},
   "outputs": [
    {
     "data": {
      "text/plain": [
       "15999999.999999998"
      ]
     },
     "execution_count": 89,
     "metadata": {},
     "output_type": "execute_result"
    }
   ],
   "source": [
    "y_test[10]          # real price of 10's house, roughly 16000000"
   ]
  },
  {
   "cell_type": "code",
   "execution_count": 90,
   "id": "11e6f5d2",
   "metadata": {},
   "outputs": [
    {
     "name": "stdout",
     "output_type": "stream",
     "text": [
      "[15865625.86945808]\n"
     ]
    }
   ],
   "source": [
    "print(np.exp(regressor.predict([[4.00e+00, 1.00e+01, 2.00e+03, 1.20e+02, 1.53e+00, 3.32e+00,\n",
    "       4.00e+00, 2.66e+00]])))\n",
    "# predicting by putting 10 elment's value, converting to initial House price through exp method\n",
    "# Predicted values is 15865625.87"
   ]
  },
  {
   "cell_type": "code",
   "execution_count": 91,
   "id": "0ddeeb73",
   "metadata": {},
   "outputs": [
    {
     "data": {
      "text/plain": [
       "array([6.00000000e+00, 8.00000000e+00, 2.02100000e+03, 1.65000000e+02,\n",
       "       1.00000000e+00, 3.32164580e+00, 5.65621951e+00, 2.66087016e+00])"
      ]
     },
     "execution_count": 91,
     "metadata": {},
     "output_type": "execute_result"
    }
   ],
   "source": [
    "X_test[1]            # taking 1 element's values to make predict"
   ]
  },
  {
   "cell_type": "code",
   "execution_count": 92,
   "id": "b4cf70b2",
   "metadata": {},
   "outputs": [
    {
     "data": {
      "text/plain": [
       "22999999.99999999"
      ]
     },
     "execution_count": 92,
     "metadata": {},
     "output_type": "execute_result"
    }
   ],
   "source": [
    "y_test[1]            # real price of 1st house, roughly 23000000"
   ]
  },
  {
   "cell_type": "code",
   "execution_count": 93,
   "id": "a9222c84",
   "metadata": {},
   "outputs": [
    {
     "name": "stdout",
     "output_type": "stream",
     "text": [
      "[23508906.89740929]\n"
     ]
    }
   ],
   "source": [
    "print(np.exp(regressor.predict([[6.00e+00, 8.00e+00, 2.02e+03, 1.65e+02, 1.00e+00, 3.32e+00,\n",
    "       4.73e+00, 2.66e+00]])))\n",
    "# predicting by putting 1 elment's value\n",
    "# Predicted values is 23508906.90"
   ]
  },
  {
   "cell_type": "markdown",
   "id": "4ff60b67",
   "metadata": {},
   "source": [
    "# In conclusion, we can predict house prices based on their properties using multiple linear regression, which in turn is the basis of machine learning."
   ]
  }
 ],
 "metadata": {
  "kernelspec": {
   "display_name": "Python 3.9.13 ('base')",
   "language": "python",
   "name": "python3"
  },
  "language_info": {
   "codemirror_mode": {
    "name": "ipython",
    "version": 3
   },
   "file_extension": ".py",
   "mimetype": "text/x-python",
   "name": "python",
   "nbconvert_exporter": "python",
   "pygments_lexer": "ipython3",
   "version": "3.9.13"
  },
  "vscode": {
   "interpreter": {
    "hash": "3043d1795ba4e0c21ad8f92575aa91bd2aeb4e429e5ce129ef86fd0e27798542"
   }
  }
 },
 "nbformat": 4,
 "nbformat_minor": 5
}
